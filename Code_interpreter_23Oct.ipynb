{
 "cells": [
  {
   "cell_type": "code",
   "execution_count": 1,
   "id": "82f41202",
   "metadata": {},
   "outputs": [],
   "source": [
    "from openai import OpenAI\n",
    "import sys\n",
    "import io\n",
    "import traceback\n"
   ]
  },
  {
   "cell_type": "code",
   "execution_count": 2,
   "id": "8634d5fb",
   "metadata": {},
   "outputs": [],
   "source": [
    "client = OpenAI(\n",
    "base_url = 'http://localhost:11434/v1',\n",
    "api_key='ollama', # required, but unused\n",
    ")"
   ]
  },
  {
   "cell_type": "code",
   "execution_count": 3,
   "id": "d6e79ef2",
   "metadata": {},
   "outputs": [],
   "source": [
    "def query_classifier(query):\n",
    "    prompt = f\"Classify the following query as either 'Informational' or 'Coding'. : {query}\"\n",
    "    response = client.chat.completions.create(\n",
    "    model='qwen2.5:14b-instruct-q5_K_M',  # Adjust to the model you are using\n",
    "        messages=[{\"role\": \"system\", \"content\": \"\"\"You are a helpful assistant helping classification task.\n",
    "        You will analyze the query and Reply with only Informational or Coding. Note Coding only if it is Python Coding\"\"\"},\n",
    "                  {\"role\": \"user\", \"content\": prompt},\n",
    "                 ]\n",
    "    )\n",
    "    classification = response.choices[0].message.content.strip()\n",
    "    print(classification)\n",
    "    return classification\n"
   ]
  },
  {
   "cell_type": "code",
   "execution_count": 4,
   "id": "b5bfaa4c",
   "metadata": {},
   "outputs": [],
   "source": [
    "def informational_response(query):\n",
    "    print(\"Starting informational_response...\")\n",
    "    response = client.chat.completions.create(\n",
    "    model='qwen2.5:14b-instruct-q5_K_M',\n",
    "        messages=[{\"role\": \"system\", \"content\": 'You are a helpful assistant'},\n",
    "                  {\"role\": \"user\", \"content\": query}]\n",
    "    )\n",
    "    return response.choices[0].message.content.strip()\n"
   ]
  },
  {
   "cell_type": "code",
   "execution_count": 5,
   "id": "90b2f970",
   "metadata": {},
   "outputs": [],
   "source": [
    "def coding_response(query):\n",
    "    print(\"Starting coding_response...\")\n",
    "    response = client.chat.completions.create(\n",
    "    model='qwen2.5:14b-instruct-q5_K_M',\n",
    "        messages=[{\"role\": \"system\", \"content\": \"\"\"You are a coding assistant that executes python code. \n",
    "                   Your response will be sent to code execution, so strictly generate code only. Use print statements to display output appropriately\n",
    "                   Anything you want to say, say it in single line comments\"\"\"},\n",
    "            {\"role\": \"user\", \"content\": f\"Generate Python code for: {query}\"}]\n",
    "    )\n",
    "    code = response.choices[0].message.content.strip()\n",
    "    return {\"file_name\": \"generated_code.py\", \"code\": code}\n"
   ]
  },
  {
   "cell_type": "code",
   "execution_count": 6,
   "id": "2b57fd34",
   "metadata": {},
   "outputs": [],
   "source": [
    "def execute_code(code):\n",
    "    try:\n",
    "        # Define the code and execute it\n",
    "        exec(code)\n",
    "        return locals(), None  # Return the local variables and None for error\n",
    "    except Exception as e:\n",
    "        return None, f\"Error: {str(e)}\"  # Return None for output and error message"
   ]
  },
  {
   "cell_type": "code",
   "execution_count": 7,
   "id": "015551f1",
   "metadata": {},
   "outputs": [],
   "source": [
    "def get_fixed_code(code, error):\n",
    "    print(\"Starting get_fixed_code...\")\n",
    "    prompt = f\"Here is some Python code that produced an error:\\n\\n{code}\\n\\nError message: {error}\\n\\nPlease provide a corrected version of the code.\"\n",
    "    response = client.chat.completions.create(\n",
    "    model='qwen2.5:14b-instruct-q5_K_M',\n",
    "        messages=[{\"role\": \"system\", \"content\": \"You are a coding assistant that assists in Python coding tasks.\"},\n",
    "            {\"role\": \"user\", \"content\": prompt}]\n",
    "    )\n",
    "    return response.choices[0].message.content.strip()\n"
   ]
  },
  {
   "cell_type": "code",
   "execution_count": 9,
   "id": "a1646cbe",
   "metadata": {},
   "outputs": [],
   "source": [
    "def execute_code_until_success(code):\n",
    "    print(\"Starting execute_code_until_success...\")\n",
    "    attempts = 0\n",
    "    while attempts < 5:\n",
    "        print(f\"Attempting to execute code:\\n```python\\n{code}\\n```\")  # Debug output\n",
    "        print(\"Output\")\n",
    "        output, error = execute_code(code)  # Unpacking the returned tuple\n",
    "        if output is not None:\n",
    "            return output  # Return the local variables if execution was successful\n",
    "        else:\n",
    "            print(f\"Attempt {attempts + 1} failed with error: {error}\")\n",
    "            code = get_fixed_code(code, error)  # Get a fixed version of the code\n",
    "            attempts += 1\n",
    "    return \"Code could not be executed successfully after 5 attempts.\"\n"
   ]
  },
  {
   "cell_type": "code",
   "execution_count": 11,
   "id": "5fe19367",
   "metadata": {},
   "outputs": [
    {
     "name": "stdout",
     "output_type": "stream",
     "text": [
      "Enter your query: What is the capital of Norway?\n",
      "Informational\n",
      "Starting informational_response...\n",
      "Answer: The capital of Norway is Oslo.\n"
     ]
    }
   ],
   "source": [
    "def main():\n",
    "    user_query = input(\"Enter your query: \")\n",
    "    classification = query_classifier(user_query)\n",
    "\n",
    "    if classification == \"Informational\":\n",
    "        answer = informational_response(user_query)\n",
    "        print(f\"Answer: {answer}\")\n",
    "    elif classification == \"Coding\":\n",
    "        coding_info = coding_response(user_query)\n",
    "        output = execute_code_until_success(coding_info[\"code\"])\n",
    "        #print(f\"Output: {output}\")\n",
    "    else:\n",
    "        print(\"Could not classify the query.\")\n",
    "\n",
    "if __name__ == \"__main__\":\n",
    "    main()\n"
   ]
  },
  {
   "cell_type": "code",
   "execution_count": null,
   "id": "84fccd44",
   "metadata": {},
   "outputs": [],
   "source": []
  },
  {
   "cell_type": "code",
   "execution_count": null,
   "id": "3c358979",
   "metadata": {},
   "outputs": [],
   "source": []
  }
 ],
 "metadata": {
  "kernelspec": {
   "display_name": "Python 3 (ipykernel)",
   "language": "python",
   "name": "python3"
  },
  "language_info": {
   "codemirror_mode": {
    "name": "ipython",
    "version": 3
   },
   "file_extension": ".py",
   "mimetype": "text/x-python",
   "name": "python",
   "nbconvert_exporter": "python",
   "pygments_lexer": "ipython3",
   "version": "3.11.5"
  }
 },
 "nbformat": 4,
 "nbformat_minor": 5
}

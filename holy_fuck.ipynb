{
 "cells": [
  {
   "cell_type": "code",
   "execution_count": null,
   "id": "b51add32",
   "metadata": {},
   "outputs": [],
   "source": [
    "from hotfucks import run_coding_agent"
   ]
  },
  {
   "cell_type": "code",
   "execution_count": null,
   "id": "8634d3a9",
   "metadata": {},
   "outputs": [],
   "source": [
    "api_client_details = {\n",
    "        'base_url': 'http://localhost:11434/v1',\n",
    "        'api_key': 'ollama',\n",
    "        'model': \"qwen2.5:14b-instruct-q5_K_M\"\n",
    "    }\n",
    "query = \"Write a python program to count the r's in 'Strawberry'\"\n",
    "docker_name = 'septimus'"
   ]
  },
  {
   "cell_type": "code",
   "execution_count": null,
   "id": "1c0c040d",
   "metadata": {},
   "outputs": [],
   "source": [
    "code_content, result = run_coding_agent(api_client_details, query, docker_name)\n",
    "print(\"Code Content:\\n\", code_content)\n",
    "print(\"Result:\\n\", result)"
   ]
  },
  {
   "cell_type": "code",
   "execution_count": null,
   "id": "c3f42b05",
   "metadata": {},
   "outputs": [],
   "source": []
  }
 ],
 "metadata": {
  "kernelspec": {
   "display_name": "Python 3 (ipykernel)",
   "language": "python",
   "name": "python3"
  },
  "language_info": {
   "codemirror_mode": {
    "name": "ipython",
    "version": 3
   },
   "file_extension": ".py",
   "mimetype": "text/x-python",
   "name": "python",
   "nbconvert_exporter": "python",
   "pygments_lexer": "ipython3",
   "version": "3.11.5"
  }
 },
 "nbformat": 4,
 "nbformat_minor": 5
}

{
 "cells": [
  {
   "cell_type": "code",
   "execution_count": 1,
   "id": "be04cc6d-6ee1-4cc1-a797-af0c2b48bb4c",
   "metadata": {},
   "outputs": [],
   "source": [
    "import subprocess"
   ]
  },
  {
   "cell_type": "code",
   "execution_count": 2,
   "id": "169b7b39-da8e-48af-9e1b-00648c3d86b6",
   "metadata": {},
   "outputs": [],
   "source": [
    "def run_code(filename, docker_image):\n",
    "    try:\n",
    "        # Format the docker command with the filename and docker image\n",
    "        command = fr'docker run --rm -v \"C:/Users/CSC/Playground/\":/app {docker_image} python /app/{filename}'\n",
    "        \n",
    "        # Run the docker command\n",
    "        result = subprocess.run(command, shell=True, capture_output=True, text=True)\n",
    "        \n",
    "        if result.returncode == 0:\n",
    "            return result.stdout.strip()\n",
    "        else:\n",
    "            # Return the error message as a string\n",
    "            return f\"Error: {result.stderr}\"\n",
    "    \n",
    "    except subprocess.CalledProcessError as e:\n",
    "        print(f\"Command failed with exit code {e.returncode}: {e.output.strip()}\")\n",
    "        return f\"Error: Command failed with exit code {e.returncode}\"\n",
    "    \n",
    "    except Exception as e:\n",
    "        print(f\"Unexpected error: {e}\")\n",
    "        return \"Error: Unexpected error\""
   ]
  },
  {
   "cell_type": "code",
   "execution_count": 3,
   "id": "80f6e406-6e2f-48f7-b901-6c62724702ec",
   "metadata": {},
   "outputs": [
    {
     "data": {
      "text/plain": [
       "'8 is Fibonacci number: True\\n34 is Fibonacci number: True\\n41 is Fibonacci number: False'"
      ]
     },
     "execution_count": 3,
     "metadata": {},
     "output_type": "execute_result"
    }
   ],
   "source": [
    "run_code('fib_check.py','septimus')"
   ]
  },
  {
   "cell_type": "code",
   "execution_count": null,
   "id": "a79da777-042e-4cd4-a9ce-eb0077b5e060",
   "metadata": {},
   "outputs": [],
   "source": []
  }
 ],
 "metadata": {
  "kernelspec": {
   "display_name": "Python 3 (ipykernel)",
   "language": "python",
   "name": "python3"
  },
  "language_info": {
   "codemirror_mode": {
    "name": "ipython",
    "version": 3
   },
   "file_extension": ".py",
   "mimetype": "text/x-python",
   "name": "python",
   "nbconvert_exporter": "python",
   "pygments_lexer": "ipython3",
   "version": "3.10.6"
  }
 },
 "nbformat": 4,
 "nbformat_minor": 5
}

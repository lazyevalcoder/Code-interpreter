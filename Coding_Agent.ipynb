{
 "cells": [
  {
   "cell_type": "code",
   "execution_count": null,
   "id": "8fda143d",
   "metadata": {},
   "outputs": [],
   "source": [
    "#1\n",
    "from openai import OpenAI\n",
    "from parser import code_to_file, extract_filename, run_code"
   ]
  },
  {
   "cell_type": "code",
   "execution_count": null,
   "id": "3917567e",
   "metadata": {},
   "outputs": [],
   "source": [
    "#2\n",
    "client = OpenAI(\n",
    "base_url = 'http://localhost:11434/v1',\n",
    "api_key='ollama', # required, but unused\n",
    ")"
   ]
  },
  {
   "cell_type": "code",
   "execution_count": null,
   "id": "c41237bb",
   "metadata": {},
   "outputs": [],
   "source": [
    "#3\n",
    "query = \"\"\"Write a python program to check if a given number is Fibonacci number. Input:  8, 34, 41\n",
    "\"\"\"\n",
    "prompt = query + \"\"\"\n",
    "    Format the response in the following format:\n",
    "    1. plan\n",
    "    2. filename\n",
    "    3. Code\n",
    "    \n",
    "    Do not show any comments. The code should not have multi line comments. Only single line comments are permissible.\n",
    "    \"\"\""
   ]
  },
  {
   "cell_type": "code",
   "execution_count": null,
   "id": "db0a1595",
   "metadata": {},
   "outputs": [],
   "source": [
    "#4\n",
    "response = client.chat.completions.create(\n",
    "model=\"qwen2.5:14b-instruct-q5_K_M\",\n",
    "messages=[\n",
    "    {\"role\": \"system\", \"content\": \"You are a helpful coding assistant\"},\n",
    "    {\"role\": \"user\", \"content\": prompt}\n",
    "  ]\n",
    ")"
   ]
  },
  {
   "cell_type": "code",
   "execution_count": null,
   "id": "04d47556",
   "metadata": {},
   "outputs": [],
   "source": [
    "#5\n",
    "raw_response = response.choices[0].message.content\n",
    "print(raw_response)    "
   ]
  },
  {
   "cell_type": "code",
   "execution_count": null,
   "id": "91e04205",
   "metadata": {},
   "outputs": [],
   "source": [
    "#6\n",
    "response_refine = client.chat.completions.create(\n",
    "model=\"qwen2.5:14b-instruct-q5_K_M\",\n",
    "messages=[\n",
    "    {\"role\": \"system\", \"content\": \"You are a helpful assistant. There are five conditions. Think carefully and follow the conditions strictly.\"},\n",
    "    {\"role\": \"user\", \"content\": \"\"\"You will analyze the text given, follow the instructions and provide the response. \n",
    "    Instructions:\n",
    "    1. Enclose your response in following xml format tags: <code> and </code>. \n",
    "    2. Save the filename and code in dictionary format. keys will be 'filename' and 'code'.  {filename_key: filename_value, code_key: code_value}\n",
    "    3. Within the dictionary, in the code key if you detect the python code use markdown blocks ```python in the beginning and ``` in the end. \n",
    "    4. Use escaped triple quotes (`\\\"\\\"\\\"`) for the value of the key instead of triple quotes.\n",
    "    5. If you detect multi line comments in triple quotes within the value of the code, remove those comments. Use single line comments\n",
    "    6. Ensure you have followed the correct openings and closings like <code> </code> tags and { } curly brackets\n",
    "    \n",
    "    Eample: \n",
    "<code>\n",
    "{\n",
    "  \"filename\": \"hello.py\",\n",
    "  \"code\": ```python\n",
    "  print(\"Hello world!\")\n",
    "  ```\n",
    "}\n",
    "</code>\n",
    "\n",
    "Here is the text for you: \"\"\" + raw_response}\n",
    "  ]\n",
    ")"
   ]
  },
  {
   "cell_type": "code",
   "execution_count": null,
   "id": "8891faa1",
   "metadata": {},
   "outputs": [],
   "source": [
    "#7\n",
    "print(response_refine.choices[0].message.content)"
   ]
  },
  {
   "cell_type": "code",
   "execution_count": null,
   "id": "5c32b074",
   "metadata": {},
   "outputs": [],
   "source": [
    "#8\n",
    "x=response_refine.choices[0].message.content"
   ]
  },
  {
   "cell_type": "code",
   "execution_count": null,
   "id": "9ab044c2",
   "metadata": {},
   "outputs": [],
   "source": [
    "#9\n",
    "code_to_file(x)"
   ]
  },
  {
   "cell_type": "code",
   "execution_count": null,
   "id": "6a4c9f5b",
   "metadata": {},
   "outputs": [],
   "source": [
    "#10\n",
    "print(x)"
   ]
  },
  {
   "cell_type": "code",
   "execution_count": null,
   "id": "59fd0595-83e9-45dd-b117-10ea46631916",
   "metadata": {},
   "outputs": [],
   "source": [
    "#11\n",
    "file_name = extract_filename(x)\n",
    "print(file_name)"
   ]
  },
  {
   "cell_type": "code",
   "execution_count": null,
   "id": "5e930a40-12f4-441a-a1a1-fb28790f0bbb",
   "metadata": {},
   "outputs": [],
   "source": [
    "#12\n",
    "code_outcome=run_code(file_name,'septimus')"
   ]
  },
  {
   "cell_type": "markdown",
   "id": "8e65413a",
   "metadata": {},
   "source": [
    "#### Possible places where we get error:\n",
    "1. Line 9 --> if this fails, start running from line 6\n",
    "2. Line 11 (the extension may not be corret) --> if this fails, start running from line 6\n",
    "3. Line 12 (The code is incorrect) --> if this fails, it should edit the file.\n",
    "\n",
    "#### Next steps:\n",
    "This entire script should be a wrapper. Think about the inputs."
   ]
  },
  {
   "cell_type": "code",
   "execution_count": null,
   "id": "c50dd572",
   "metadata": {},
   "outputs": [],
   "source": [
    "#13\n",
    "print(code_outcome)"
   ]
  },
  {
   "cell_type": "code",
   "execution_count": null,
   "id": "4b367135",
   "metadata": {},
   "outputs": [],
   "source": [
    "#14\n",
    "print(code_outcome[1])"
   ]
  },
  {
   "cell_type": "markdown",
   "id": "e543ad26",
   "metadata": {},
   "source": [
    "### This needs another solid planning. Need to write a flowchart to iron out the exact flow and then proceed with the code"
   ]
  }
 ],
 "metadata": {
  "kernelspec": {
   "display_name": "Python 3 (ipykernel)",
   "language": "python",
   "name": "python3"
  },
  "language_info": {
   "codemirror_mode": {
    "name": "ipython",
    "version": 3
   },
   "file_extension": ".py",
   "mimetype": "text/x-python",
   "name": "python",
   "nbconvert_exporter": "python",
   "pygments_lexer": "ipython3",
   "version": "3.11.5"
  }
 },
 "nbformat": 4,
 "nbformat_minor": 5
}

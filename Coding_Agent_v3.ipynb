{
 "cells": [
  {
   "cell_type": "code",
   "execution_count": null,
   "id": "029bdff5",
   "metadata": {},
   "outputs": [],
   "source": [
    "#1 Importing necessary libraries\n",
    "from openai import OpenAI\n",
    "from parser import code_to_file, extract_filename, run_code"
   ]
  },
  {
   "cell_type": "code",
   "execution_count": null,
   "id": "c2043fda",
   "metadata": {},
   "outputs": [],
   "source": [
    "#2 Setting up the API\n",
    "client = OpenAI(\n",
    "base_url = 'http://localhost:11434/v1',\n",
    "api_key='ollama', # required, but unused\n",
    ")"
   ]
  },
  {
   "cell_type": "code",
   "execution_count": null,
   "id": "133cc3b9",
   "metadata": {},
   "outputs": [],
   "source": [
    "#3 Setting up the query\n",
    "query = \"\"\"Given two sorted arrays nums1 and nums2 of size m and n respectively, return the median of the two sorted arrays.\n",
    "\n",
    "Input: nums1 = [1,3], nums2 = [2]\n",
    "Output: 2.00000\n",
    "Explanation: merged array = [1,2,3] and median is 2.\n",
    "\"\"\"\n",
    "prompt = query + \"\"\"\n",
    "    Format the response in the following format:\n",
    "    1. plan\n",
    "    2. filename\n",
    "    3. Code\n",
    "    \n",
    "    Do not show any comments. The code should not have multi line comments. Only single line comments are permissible.\n",
    "    \"\"\""
   ]
  },
  {
   "cell_type": "code",
   "execution_count": null,
   "id": "cfe093f4",
   "metadata": {},
   "outputs": [],
   "source": [
    "#4\n",
    "def code_gen_exec(query, docker_image):\n",
    "    #4 Setting up the response use OpenAI's chat completion endpoint\n",
    "    response = client.chat.completions.create(\n",
    "    model=\"qwen2.5:14b-instruct-q5_K_M\",\n",
    "    messages=[\n",
    "        {\"role\": \"system\", \"content\": \"You are a helpful coding assistant\"},\n",
    "        {\"role\": \"user\", \"content\": prompt}\n",
    "      ]\n",
    "    )\n",
    "    \n",
    "    raw_response = response.choices[0].message.content\n",
    "    \n",
    "    response_refine = client.chat.completions.create(\n",
    "    model=\"qwen2.5:14b-instruct-q5_K_M\",\n",
    "    messages=[\n",
    "        {\"role\": \"system\", \"content\": \"You are a helpful assistant. There are seven conditions. Think carefully and follow the conditions strictly.\"},\n",
    "        {\"role\": \"user\", \"content\": \"\"\"You will analyze the text given, follow the instructions and provide the response. \n",
    "        Instructions:\n",
    "        1. Enclose your response in following xml format tags: <code> and </code>. \n",
    "        2. Save the filename and code in dictionary format. keys will be 'filename' and 'code'.  {filename_key: filename_value, code_key: code_value}\n",
    "        3. Within the dictionary, in the code key if you detect the python code use markdown blocks ```python in the beginning and ``` in the end. \n",
    "        4. Use escaped triple quotes (`\\\"\\\"\\\"`) for the value of the key instead of triple quotes.\n",
    "        5. If you detect multi line comments in triple quotes within the value of the code, remove those comments. Use single line comments\n",
    "        6. Ensure you have followed the correct openings and closings like <code> </code> tags and { } curly brackets\n",
    "        7. make a silly typo in the code\n",
    "    \n",
    "        Eample: \n",
    "        <code>\n",
    "        {\n",
    "          \"filename\": \"hello.py\",\n",
    "          \"code\": ```python\n",
    "          print(\"Hello world!\")\n",
    "          ```\n",
    "        }\n",
    "        </code>\n",
    "\n",
    "    Here is the text for you: \"\"\" + raw_response}\n",
    "          ],\n",
    "        temperature = 0.8\n",
    "        )\n",
    "    \n",
    "    response_refine_output = response_refine.choices[0].message.content\n",
    "    \n",
    "    code_to_file(response_refine_output)\n",
    "    \n",
    "    file_name = extract_filename(response_refine_output)\n",
    "    \n",
    "    code_outcome=run_code(file_name,'septimus')\n",
    "    \n",
    "    return file_name, code_outcome[0], code_outcome[1]\n",
    "    \n",
    "    "
   ]
  },
  {
   "cell_type": "code",
   "execution_count": null,
   "id": "5f7d3f72",
   "metadata": {},
   "outputs": [],
   "source": [
    "#5\n",
    "result_code_gen_exec = code_gen_exec(query, 'septimus')"
   ]
  },
  {
   "cell_type": "code",
   "execution_count": null,
   "id": "a171b8e7",
   "metadata": {},
   "outputs": [],
   "source": [
    "#6\n",
    "print(result_code_gen_exec)"
   ]
  },
  {
   "cell_type": "markdown",
   "id": "c11f4302",
   "metadata": {},
   "source": [
    "### Next steps:\n",
    "\n",
    "1. create a function to convert the file_name.py into the file_name_error.txt or  file_name_output.txt\n",
    "2. For the code fix function, the input parameters are: query, code, error, docker image name\n",
    "3. Prompting: Need to analyze the best way. maybe ask something like diagnose, identify potential cause, etc in the prompting.\n",
    "4. it should overwrite the existing file and not create new file.\n",
    "5. it should return status code"
   ]
  },
  {
   "cell_type": "code",
   "execution_count": null,
   "id": "0f369304",
   "metadata": {},
   "outputs": [],
   "source": [
    "#7\n",
    "def read_file(file_path):\n",
    "    try:\n",
    "        with open(file_path, 'r') as file:\n",
    "            return file.read()\n",
    "    except FileNotFoundError:\n",
    "        print(f\"Sorry, the file {file_path} does not exist.\")\n",
    "        return None\n",
    "\n",
    "if result_code_gen_exec[2] == \"exit code: 1: fail\":\n",
    "    var_error = read_file(result_code_gen_exec[1])\n",
    "else:\n",
    "    var_error = None\n",
    "\n",
    "if result_code_gen_exec[2] == \"exit code: 0: success\":\n",
    "    var_success = read_file(result_code_gen_exec[1])\n",
    "else:\n",
    "    var_success = None"
   ]
  },
  {
   "cell_type": "code",
   "execution_count": null,
   "id": "8a90bf2d",
   "metadata": {},
   "outputs": [],
   "source": [
    "#8\n",
    "code_content = read_file(result_code_gen_exec[0])\n",
    "output_content = read_file(result_code_gen_exec[1])\n",
    "\n",
    "print(code_content)\n",
    "\n",
    "print(var_error)\n",
    "\n",
    "code_file = result_code_gen_exec[0]\n",
    "print(code_file)\n",
    "\n",
    "\n",
    "print(\"Here are the details for you: \" + code_file +  \"\\n code: \" + code_content + \"\\n\\n error: \" + var_error)"
   ]
  },
  {
   "cell_type": "code",
   "execution_count": null,
   "id": "37ac78f1",
   "metadata": {},
   "outputs": [],
   "source": [
    "#9\n",
    "def code_fix_exec(query, code_file, error_file, docker_image):\n",
    "    \n",
    "    code_content = read_file(result_code_gen_exec[0])\n",
    "    code_file = result_code_gen_exec[0]\n",
    "    \n",
    "    fix_response = client.chat.completions.create(\n",
    "    model=\"qwen2.5:14b-instruct-q5_K_M\",\n",
    "    messages=[\n",
    "    {\"role\": \"system\", \"content\": \"\"\"You are an expert in fixing coding. You will analyze the given code and error. \n",
    "    You will fix the code. You will respond in following structure.\n",
    "    Diagnosis\n",
    "    filename\n",
    "    code. \"\"\"\n",
    "    },\n",
    "    {\"role\": \"user\", \"content\": \"Here are the details for you to fix the code \\n filename: \" + code_file +  \"\\n code: \" + code_content + \"\\n\\n error: \" + var_error}\n",
    "      ]\n",
    "    )\n",
    "    \n",
    "    fix_response_raw = fix_response.choices[0].message.content\n",
    "    \n",
    "    fix_response_refine = client.chat.completions.create(\n",
    "    model=\"qwen2.5:14b-instruct-q5_K_M\",\n",
    "    messages=[\n",
    "    {\"role\": \"system\", \"content\": \"You are an expert in coding, identifying bugs and solving. There are five conditions. Think carefully and follow the conditions strictly.\"},\n",
    "    {\"role\": \"user\", \"content\": \"\"\"You will analyze the text given, follow the instructions and provide the response. \n",
    "    Instructions:\n",
    "    1. Enclose your response in following xml format tags: <code> and </code>. \n",
    "    2. Save the filename and code in dictionary format. keys will be 'filename' and 'code'.  {filename_key: filename_value, code_key: code_value}\n",
    "    3. Within the dictionary, in the code key if you detect the python code use markdown blocks ```python in the beginning and ``` in the end. \n",
    "    4. Use escaped triple quotes (`\\\"\\\"\\\"`) for the value of the key instead of triple quotes.\n",
    "    5. If you detect multi line comments in triple quotes within the value of the code, remove those comments. Use single line comments\n",
    "    6. Ensure you have followed the correct openings and closings like <code> </code> tags and { } curly brackets\n",
    "    \n",
    "    Eample: \n",
    "    <code>\n",
    "    {\n",
    "    \"filename\": \"hello.py\",\n",
    "    \"code\": ```python\n",
    "    print(\"Hello world!\")\n",
    "    ```\n",
    "    }\n",
    "    </code>\n",
    "\n",
    "    Here are the details for you: \"\"\" + code_file +  \"\\n code: \" + code_content + \"\\n\\n error: \" + var_error}\n",
    "    ]\n",
    "    )\n",
    "    \n",
    "    code_fix=fix_response_refine.choices[0].message.content\n",
    "    \n",
    "    code_to_file(code_fix)\n",
    "    \n",
    "    fix_file_name = extract_filename(code_fix)\n",
    "    \n",
    "    fix_code_outcome=run_code(fix_file_name,'septimus')\n",
    "    \n",
    "    return fix_file_name, fix_code_outcome[0], fix_code_outcome[1]\n",
    "    \n",
    "    "
   ]
  },
  {
   "cell_type": "code",
   "execution_count": null,
   "id": "d79fcbec",
   "metadata": {},
   "outputs": [],
   "source": [
    "#10\n",
    "result_code_fix_exec = code_fix_exec(query, result_code_gen_exec[0], result_code_gen_exec[1], 'septimus')"
   ]
  },
  {
   "cell_type": "code",
   "execution_count": null,
   "id": "85d84c6b",
   "metadata": {},
   "outputs": [],
   "source": [
    "#11\n",
    "print(result_code_fix_exec)"
   ]
  },
  {
   "cell_type": "code",
   "execution_count": null,
   "id": "4fedb00c",
   "metadata": {},
   "outputs": [],
   "source": [
    "\n",
    "    "
   ]
  }
 ],
 "metadata": {
  "kernelspec": {
   "display_name": "Python 3 (ipykernel)",
   "language": "python",
   "name": "python3"
  },
  "language_info": {
   "codemirror_mode": {
    "name": "ipython",
    "version": 3
   },
   "file_extension": ".py",
   "mimetype": "text/x-python",
   "name": "python",
   "nbconvert_exporter": "python",
   "pygments_lexer": "ipython3",
   "version": "3.11.5"
  }
 },
 "nbformat": 4,
 "nbformat_minor": 5
}

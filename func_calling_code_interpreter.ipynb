{
 "cells": [
  {
   "cell_type": "code",
   "execution_count": 1,
   "id": "b0defcb7",
   "metadata": {},
   "outputs": [],
   "source": [
    "from openai import OpenAI\n",
    "import subprocess\n",
    "import json"
   ]
  },
  {
   "cell_type": "code",
   "execution_count": 2,
   "id": "8c823255",
   "metadata": {},
   "outputs": [],
   "source": [
    "client = OpenAI(\n",
    "base_url = 'http://localhost:11434/v1',\n",
    "api_key='ollama', # required, but unused\n",
    ")"
   ]
  },
  {
   "cell_type": "code",
   "execution_count": 3,
   "id": "407b56e5",
   "metadata": {},
   "outputs": [],
   "source": [
    "#function to execute the code\n",
    "def execute_code(code):\n",
    "    try:\n",
    "        #Define the code and execute it\n",
    "        exec(code)\n",
    "        return locals() #Return the variables created by the code\n",
    "    except Exception as e:\n",
    "        return f\"Error: {str(e)}\"\n",
    "    "
   ]
  },
  {
   "cell_type": "code",
   "execution_count": 4,
   "id": "e501d9c6",
   "metadata": {},
   "outputs": [],
   "source": [
    "# Define the function schema for OpenAI's function calling\n",
    "\n",
    "function_descriptions=[{\n",
    "    'type': 'function',\n",
    "    'function': {\n",
    "        'name': 'execute_code',\n",
    "        'description': 'Executes python code and returns the result.',\n",
    "        'parameters': {\n",
    "            'type': 'object',\n",
    "            'properties': {\n",
    "                'code': {\n",
    "                    'type': 'string',\n",
    "                    'description': 'The python code to execute',\n",
    "                },\n",
    "            },\n",
    "            'required': ['code'],\n",
    "        },\n",
    "    },\n",
    "},\n",
    "]\n",
    "\n",
    "tools_list = ['execute_code']"
   ]
  },
  {
   "cell_type": "code",
   "execution_count": 30,
   "id": "53ec0fe5",
   "metadata": {},
   "outputs": [],
   "source": [
    "response = client.chat.completions.create(\n",
    "    model='qwen2.5:14b-instruct-q5_K_M',\n",
    "    messages=[\n",
    "        {'role': 'system', 'content': 'You are a helpful assistant that executes Python code. If the query does not require python code execution, you dont have to return your response in python code'},\n",
    "        {'role': 'user', 'content': 'Write a python code to print the sum and multiplication of 5 and 8'}\n",
    "         ],\n",
    "    tools=function_descriptions,\n",
    "    tool_choice = \"auto\" #Let the model decide when to call the function\n",
    ")\n",
    "\n",
    "\n"
   ]
  },
  {
   "cell_type": "code",
   "execution_count": 31,
   "id": "6c44998a",
   "metadata": {},
   "outputs": [
    {
     "name": "stdout",
     "output_type": "stream",
     "text": [
      "ChatCompletionMessage(content='', role='assistant', function_call=None, tool_calls=[ChatCompletionMessageToolCall(id='call_kik0i74y', function=Function(arguments='{\"code\":\"num1 = 5\\\\nnum2 = 8\\\\ntotal_sum = num1 + num2\\\\ntotal_product = num1 * num2\\\\nprint(f\\'Sum: {total_sum}, Multiplication: {total_product}\\')\"}', name='execute_code'), type='function')])\n"
     ]
    }
   ],
   "source": [
    "print(response.choices[0].message)"
   ]
  },
  {
   "cell_type": "code",
   "execution_count": 32,
   "id": "2fd58356",
   "metadata": {},
   "outputs": [
    {
     "name": "stdout",
     "output_type": "stream",
     "text": [
      "Sum: 13, Multiplication: 40\n"
     ]
    }
   ],
   "source": [
    "# Check if tool_calls is not None and has at least one item\n",
    "if response.choices and response.choices[0].message.tool_calls:\n",
    "    if tools_list[0] in response.choices[0].message.tool_calls[0].function.name:\n",
    "        function_args_str = response.choices[0].message.tool_calls[0].function.arguments\n",
    "        function_args = json.loads(function_args_str)    \n",
    "        code_to_execute = function_args['code']\n",
    "        result = execute_code(code_to_execute)\n",
    "        # print(result)\n",
    "    elif response.choices[0].message.tool_calls[0].function.name is None:\n",
    "        print(response.choices[0].message.content)\n",
    "else:\n",
    "    print(response.choices[0].message.content)\n"
   ]
  },
  {
   "cell_type": "code",
   "execution_count": null,
   "id": "df69c144",
   "metadata": {},
   "outputs": [],
   "source": []
  }
 ],
 "metadata": {
  "kernelspec": {
   "display_name": "Python 3 (ipykernel)",
   "language": "python",
   "name": "python3"
  },
  "language_info": {
   "codemirror_mode": {
    "name": "ipython",
    "version": 3
   },
   "file_extension": ".py",
   "mimetype": "text/x-python",
   "name": "python",
   "nbconvert_exporter": "python",
   "pygments_lexer": "ipython3",
   "version": "3.11.5"
  }
 },
 "nbformat": 4,
 "nbformat_minor": 5
}

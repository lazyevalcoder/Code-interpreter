{
 "cells": [
  {
   "cell_type": "code",
   "execution_count": null,
   "id": "029bdff5",
   "metadata": {},
   "outputs": [],
   "source": [
    "#1 Importing necessary libraries\n",
    "from openai import OpenAI\n",
    "from parser import code_to_file, extract_filename, run_code"
   ]
  },
  {
   "cell_type": "code",
   "execution_count": null,
   "id": "c2043fda",
   "metadata": {},
   "outputs": [],
   "source": [
    "#2 Setting up the API\n",
    "client = OpenAI(\n",
    "base_url = 'http://localhost:11434/v1',\n",
    "api_key='ollama', # required, but unused\n",
    ")"
   ]
  },
  {
   "cell_type": "code",
   "execution_count": null,
   "id": "133cc3b9",
   "metadata": {},
   "outputs": [],
   "source": [
    "#3 Setting up the query\n",
    "query = \"\"\"Write a python program to check if a given number is Fibonacci number. Input:  8, 34, 41\n",
    "\"\"\"\n",
    "prompt = query + \"\"\"\n",
    "    Format the response in the following format:\n",
    "    1. plan\n",
    "    2. filename\n",
    "    3. Code\n",
    "    \n",
    "    Do not show any comments. The code should not have multi line comments. Only single line comments are permissible.\n",
    "    \"\"\""
   ]
  },
  {
   "cell_type": "code",
   "execution_count": null,
   "id": "cfe093f4",
   "metadata": {},
   "outputs": [],
   "source": [
    "def code_gen_exec(query, docker_image):\n",
    "    #4 Setting up the response use OpenAI's chat completion endpoint\n",
    "    response = client.chat.completions.create(\n",
    "    model=\"qwen2.5:14b-instruct-q5_K_M\",\n",
    "    messages=[\n",
    "        {\"role\": \"system\", \"content\": \"You are a helpful coding assistant\"},\n",
    "        {\"role\": \"user\", \"content\": prompt}\n",
    "      ]\n",
    "    )\n",
    "    \n",
    "    raw_response = response.choices[0].message.content\n",
    "    \n",
    "    response_refine = client.chat.completions.create(\n",
    "    model=\"qwen2.5:14b-instruct-q5_K_M\",\n",
    "    messages=[\n",
    "        {\"role\": \"system\", \"content\": \"You are a helpful assistant. There are five conditions. Think carefully and follow the conditions strictly.\"},\n",
    "        {\"role\": \"user\", \"content\": \"\"\"You will analyze the text given, follow the instructions and provide the response. \n",
    "        Instructions:\n",
    "        1. Enclose your response in following xml format tags: <code> and </code>. \n",
    "        2. Save the filename and code in dictionary format. keys will be 'filename' and 'code'.  {filename_key: filename_value, code_key: code_value}\n",
    "        3. Within the dictionary, in the code key if you detect the python code use markdown blocks ```python in the beginning and ``` in the end. \n",
    "        4. Use escaped triple quotes (`\\\"\\\"\\\"`) for the value of the key instead of triple quotes.\n",
    "        5. If you detect multi line comments in triple quotes within the value of the code, remove those comments. Use single line comments\n",
    "        6. Ensure you have followed the correct openings and closings like <code> </code> tags and { } curly brackets\n",
    "    \n",
    "        Eample: \n",
    "        <code>\n",
    "        {\n",
    "          \"filename\": \"hello.py\",\n",
    "          \"code\": ```python\n",
    "          print(\"Hello world!\")\n",
    "          ```\n",
    "        }\n",
    "        </code>\n",
    "\n",
    "    Here is the text for you: \"\"\" + raw_response}\n",
    "          ]\n",
    "        )\n",
    "    \n",
    "    x=response_refine.choices[0].message.content\n",
    "    \n",
    "    code_to_file(x)\n",
    "    \n",
    "    file_name = extract_filename(x)\n",
    "    \n",
    "    code_outcome=run_code(file_name,'septimus')\n",
    "    \n",
    "    return file_name, code_outcome[1]\n",
    "    \n",
    "    "
   ]
  },
  {
   "cell_type": "code",
   "execution_count": null,
   "id": "c80aad38",
   "metadata": {},
   "outputs": [],
   "source": [
    "code_gen_exec(query, 'septimus')"
   ]
  },
  {
   "cell_type": "code",
   "execution_count": null,
   "id": "5f7d3f72",
   "metadata": {},
   "outputs": [],
   "source": [
    "result_code_gen_exec = code_gen_exec(query, 'septimus')"
   ]
  },
  {
   "cell_type": "code",
   "execution_count": null,
   "id": "82038acb",
   "metadata": {},
   "outputs": [],
   "source": [
    "print(result_code_gen_exec[0])"
   ]
  },
  {
   "cell_type": "markdown",
   "id": "c11f4302",
   "metadata": {},
   "source": [
    "### Next steps:\n",
    "\n",
    "1. create a function to convert the file_name.py into the file_name_error.txt or  file_name_output.txt\n",
    "2. For the code fix function, the input parameters are: query, code, error, docker image name\n",
    "3. Prompting: Need to analyze the best way. maybe ask something like diagnose, identify potential cause, etc in the prompting.\n",
    "4. it should overwrite the existing file and not create new file.\n",
    "5. it should return status code"
   ]
  },
  {
   "cell_type": "code",
   "execution_count": null,
   "id": "8d8b25c7",
   "metadata": {},
   "outputs": [],
   "source": []
  }
 ],
 "metadata": {
  "kernelspec": {
   "display_name": "Python 3 (ipykernel)",
   "language": "python",
   "name": "python3"
  },
  "language_info": {
   "codemirror_mode": {
    "name": "ipython",
    "version": 3
   },
   "file_extension": ".py",
   "mimetype": "text/x-python",
   "name": "python",
   "nbconvert_exporter": "python",
   "pygments_lexer": "ipython3",
   "version": "3.11.5"
  }
 },
 "nbformat": 4,
 "nbformat_minor": 5
}

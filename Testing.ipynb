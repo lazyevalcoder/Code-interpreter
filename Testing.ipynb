{
 "cells": [
  {
   "cell_type": "code",
   "execution_count": 1,
   "id": "8fda143d",
   "metadata": {},
   "outputs": [],
   "source": [
    "from openai import OpenAI\n",
    "from parser import code_to_file, extract_filename, run_code"
   ]
  },
  {
   "cell_type": "code",
   "execution_count": 2,
   "id": "3917567e",
   "metadata": {},
   "outputs": [],
   "source": [
    "client = OpenAI(\n",
    "base_url = 'http://localhost:11434/v1',\n",
    "api_key='ollama', # required, but unused\n",
    ")"
   ]
  },
  {
   "cell_type": "code",
   "execution_count": 14,
   "id": "c41237bb",
   "metadata": {},
   "outputs": [],
   "source": [
    "query = \"\"\"Write a python program to check if a given number is Fibonacci number. Input:  8, 34, 41\n",
    "\"\"\"\n",
    "prompt = query + \"\"\"\n",
    "    Format the response in the following format:\n",
    "    1. plan\n",
    "    2. filename\n",
    "    3. Code\n",
    "    \n",
    "    Do not show any comments. The code should not have multi line comments. Only single line comments are permissible.\n",
    "    \"\"\""
   ]
  },
  {
   "cell_type": "code",
   "execution_count": 15,
   "id": "db0a1595",
   "metadata": {},
   "outputs": [],
   "source": [
    "response = client.chat.completions.create(\n",
    "model=\"mistral-nemo:12b-instruct-2407-q8_0\",\n",
    "messages=[\n",
    "    {\"role\": \"system\", \"content\": \"You are a helpful coding assistant\"},\n",
    "    {\"role\": \"user\", \"content\": prompt}\n",
    "  ]\n",
    ")"
   ]
  },
  {
   "cell_type": "code",
   "execution_count": 16,
   "id": "04d47556",
   "metadata": {},
   "outputs": [
    {
     "name": "stdout",
     "output_type": "stream",
     "text": [
      "**Plan:**\n",
      "- Check if the number is a perfect fifth power of 5.\n",
      "- If it is, return True as all Fibonacci numbers are congruent to 0 or ±1 modulo 5.\n",
      "- If it's not, check if '5 * n^2 + 4' or '5 * n^2 - 4' (where n is an integer) and calculate the corresponding Fibonacci number. If these calculations are equal to the given number, return True.\n",
      "\n",
      "**Filename:**\n",
      "`fibonacci_check.py`\n",
      "\n",
      "**Code:**\n",
      "\n",
      "```python\n",
      "def is_fibonacci(n):\n",
      "    # Check if n is a perfect fifth power of 5\n",
      "    if n % 5 == 0 or n % 5 == 4:\n",
      "        return True\n",
      "\n",
      "    # Check if n can be expressed as '5 * m^2 + 4' or '5 * m^2 - 4'\n",
      "    for i in range(1, int(n**0.5) + 1):\n",
      "        if (5 * i ** 2 + 4 == n) or (5 * i ** 2 - 4 == n):\n",
      "            return True\n",
      "\n",
      "    # If none of the above conditions are met, n is not a Fibonacci number\n",
      "    return False\n",
      "\n",
      "# Test the function with given numbers\n",
      "nums = [8, 34, 41]\n",
      "for num in nums:\n",
      "    print(f\"The number {num} is {'a' if is_fibonacci(num) else 'not a'} Fibonacci number.\")\n",
      "```\n"
     ]
    }
   ],
   "source": [
    "raw_response = response.choices[0].message.content\n",
    "print(raw_response)    "
   ]
  },
  {
   "cell_type": "code",
   "execution_count": 21,
   "id": "91e04205",
   "metadata": {},
   "outputs": [],
   "source": [
    "response_refine = client.chat.completions.create(\n",
    "model=\"mistral-nemo:12b-instruct-2407-q8_0\",\n",
    "messages=[\n",
    "    {\"role\": \"system\", \"content\": \"You are a helpful assistant. There are five conditions. Think carefully and follow the conditions strictly.\"},\n",
    "    {\"role\": \"user\", \"content\": \"\"\"You will analyze the text given, follow the instructions and provide the response. \n",
    "    Instructions:\n",
    "    1. Enclose your response in following xml format tags: <code> and </code>. \n",
    "    2. Save the filename and code in dictionary format. keys will be 'filename' and 'code'.  {filename_key: filename_value, code_key: code_value}\n",
    "    3. Within the dictionary, in the code key if you detect the python code use markdown blocks ```python in the beginning and ``` in the end. \n",
    "    4. Use escaped triple quotes (`\\\"\\\"\\\"`) for the value of the key instead of triple quotes.\n",
    "    5. If you detect multi line comments in triple quotes within the value of the code, remove those comments. Use single line comments\n",
    "    6. Ensure you have followed the correct openings and closings like <code> </code> tags and { } curly brackets\n",
    "    \n",
    "    Eample: \n",
    "<code>\n",
    "{\n",
    "  \"filename\": \"hello.py\",\n",
    "  \"code\": ```python\n",
    "  print(\"Hello world!\")\n",
    "  ```\n",
    "}\n",
    "</code>\n",
    "\n",
    "Here is the text for you: \"\"\" + raw_response}\n",
    "  ]\n",
    ")"
   ]
  },
  {
   "cell_type": "code",
   "execution_count": 22,
   "id": "8891faa1",
   "metadata": {},
   "outputs": [
    {
     "name": "stdout",
     "output_type": "stream",
     "text": [
      "<code>\n",
      "{\n",
      "  \"filename\": \"fibonacci_check.py\",\n",
      "  \"code\": ```python\n",
      "def is_fibonacci(n):\n",
      "    # Check if n is a perfect fifth power of 5\n",
      "    if n % 5 == 0 or n % 5 == 4:\n",
      "        return True\n",
      "\n",
      "    # Check if n can be expressed as '5 * m^2 + 4' or '5 * m^2 - 4'\n",
      "    for i in range(1, int(n**0.5) + 1):\n",
      "        if (5 * i ** 2 + 4 == n) or (5 * i ** 2 - 4 == n):\n",
      "            return True\n",
      "\n",
      "    # If none of the above conditions are met, n is not a Fibonacci number\n",
      "    return False\n",
      "\n",
      "# Test the function with given numbers\n",
      "nums = [8, 34, 41]\n",
      "for num in nums:\n",
      "    print(f\"The number {num} is {'a' if is_fibonacci(num) else 'not a'} Fibonacci number.\")\n",
      "```\n",
      "}\n",
      "</code>\n"
     ]
    }
   ],
   "source": [
    "print(response_refine.choices[0].message.content)"
   ]
  },
  {
   "cell_type": "code",
   "execution_count": 23,
   "id": "5c32b074",
   "metadata": {},
   "outputs": [],
   "source": [
    "x=response_refine.choices[0].message.content"
   ]
  },
  {
   "cell_type": "code",
   "execution_count": 24,
   "id": "9ab044c2",
   "metadata": {},
   "outputs": [
    {
     "name": "stdout",
     "output_type": "stream",
     "text": [
      "exit code: 0; success\n"
     ]
    }
   ],
   "source": [
    "code_to_file(x)"
   ]
  },
  {
   "cell_type": "code",
   "execution_count": 25,
   "id": "6a4c9f5b",
   "metadata": {},
   "outputs": [
    {
     "name": "stdout",
     "output_type": "stream",
     "text": [
      "<code>\n",
      "{\n",
      "  \"filename\": \"fibonacci_check.py\",\n",
      "  \"code\": ```python\n",
      "def is_fibonacci(n):\n",
      "    # Check if n is a perfect fifth power of 5\n",
      "    if n % 5 == 0 or n % 5 == 4:\n",
      "        return True\n",
      "\n",
      "    # Check if n can be expressed as '5 * m^2 + 4' or '5 * m^2 - 4'\n",
      "    for i in range(1, int(n**0.5) + 1):\n",
      "        if (5 * i ** 2 + 4 == n) or (5 * i ** 2 - 4 == n):\n",
      "            return True\n",
      "\n",
      "    # If none of the above conditions are met, n is not a Fibonacci number\n",
      "    return False\n",
      "\n",
      "# Test the function with given numbers\n",
      "nums = [8, 34, 41]\n",
      "for num in nums:\n",
      "    print(f\"The number {num} is {'a' if is_fibonacci(num) else 'not a'} Fibonacci number.\")\n",
      "```\n",
      "}\n",
      "</code>\n"
     ]
    }
   ],
   "source": [
    "print(x)"
   ]
  },
  {
   "cell_type": "code",
   "execution_count": 26,
   "id": "59fd0595-83e9-45dd-b117-10ea46631916",
   "metadata": {},
   "outputs": [
    {
     "name": "stdout",
     "output_type": "stream",
     "text": [
      "fibonacci_check.py\n"
     ]
    }
   ],
   "source": [
    "file_name = extract_filename(x)\n",
    "print(file_name)"
   ]
  },
  {
   "cell_type": "code",
   "execution_count": 27,
   "id": "5e930a40-12f4-441a-a1a1-fb28790f0bbb",
   "metadata": {},
   "outputs": [
    {
     "data": {
      "text/plain": [
       "'The number 8 is not a Fibonacci number.\\nThe number 34 is a Fibonacci number.\\nThe number 41 is a Fibonacci number.'"
      ]
     },
     "execution_count": 27,
     "metadata": {},
     "output_type": "execute_result"
    }
   ],
   "source": [
    "run_code(file_name,'septimus')"
   ]
  },
  {
   "cell_type": "code",
   "execution_count": null,
   "id": "c5ef058f-1e4a-4b99-8cee-e6b2a60b159c",
   "metadata": {},
   "outputs": [],
   "source": []
  }
 ],
 "metadata": {
  "kernelspec": {
   "display_name": "Python 3 (ipykernel)",
   "language": "python",
   "name": "python3"
  },
  "language_info": {
   "codemirror_mode": {
    "name": "ipython",
    "version": 3
   },
   "file_extension": ".py",
   "mimetype": "text/x-python",
   "name": "python",
   "nbconvert_exporter": "python",
   "pygments_lexer": "ipython3",
   "version": "3.10.6"
  }
 },
 "nbformat": 4,
 "nbformat_minor": 5
}
